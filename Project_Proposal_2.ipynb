{
 "cells": [
  {
   "cell_type": "code",
   "execution_count": 1,
   "metadata": {},
   "outputs": [],
   "source": [
    "import pandas as pd\n",
    "import numpy as np"
   ]
  },
  {
   "cell_type": "code",
   "execution_count": 2,
   "metadata": {},
   "outputs": [],
   "source": [
    "df = pd.read_csv(\"q_WebWorks_QFERGeneratorMonthlyDescriptive_Table.txt\")\n",
    "df[\"Classification\"]=df[\"CECPlantID\"].astype(str).str[0]"
   ]
  },
  {
   "cell_type": "code",
   "execution_count": 3,
   "metadata": {},
   "outputs": [],
   "source": [
    "Solar = df[df[\"Classification\"]==\"S\"]\n",
    "Gas = df[df[\"Classification\"]==\"G\"] \n",
    "Hydro = df[df[\"Classification\"]==\"H\"] \n",
    "Wind = df[df[\"Classification\"]==\"W\"] \n",
    "Geothermal = df[df[\"Classification\"]==\"T\"]\n",
    "Nuclear = df[df[\"Classification\"]==\"N\"] \n",
    "Coal = df[df[\"Classification\"]==\"C\"]\n",
    "Biomass = df[df[\"Classification\"]==\"E\"]"
   ]
  },
  {
   "cell_type": "code",
   "execution_count": 4,
   "metadata": {},
   "outputs": [],
   "source": [
    "Years = np.arange(2001,2019)\n",
    "Years_s = np.arange(1,19)\n",
    "Solar_Efficiency=[]\n",
    "Wind_Efficiency=[]\n",
    "Geothermal_Efficiency=[]\n",
    "Hydro_Efficiency=[]\n",
    "for year in Years:\n",
    "    Solar_Efficiency.append(Solar[Solar[\"Year\"]==year][\"NetMWh\"].sum()/Solar[Solar[\"Year\"]==year][\"Capacity\"].sum())\n",
    "    Wind_Efficiency.append(Wind[Wind[\"Year\"]==year][\"NetMWh\"].sum()/Wind[Wind[\"Year\"]==year][\"Capacity\"].sum())\n",
    "    Geothermal_Efficiency.append(Geothermal[Geothermal[\"Year\"]==year][\"NetMWh\"].sum()/Geothermal[Geothermal[\"Year\"]==year][\"Capacity\"].sum())\n",
    "    Hydro_Efficiency.append(Hydro[Hydro[\"Year\"]==year][\"NetMWh\"].sum()/Hydro[Hydro[\"Year\"]==year][\"Capacity\"].sum())"
   ]
  },
  {
   "cell_type": "code",
   "execution_count": 5,
   "metadata": {},
   "outputs": [
    {
     "data": {
      "image/png": "[encoded data removed]",
      "text/plain": [
       "<Figure size 432x288 with 1 Axes>"
      ]
     },
     "metadata": {},
     "output_type": "display_data"
    }
   ],
   "source": [
    "import matplotlib.pyplot as plt\n",
    "%matplotlib inline\n",
    "fig, ax = plt.subplots()\n",
    "width = 0.4\n",
    "ax.bar(Years - width/2, Solar_Efficiency, width, label='Solar')\n",
    "ax.bar(Years + width/2, Wind_Efficiency, width, label=\"Wind\")\n",
    "ax.set_ylabel('Efficiency')\n",
    "ax.set_xlabel('Years')\n",
    "ax.set_title('Efficiency of Electricity Sources by Year')\n",
    "ax.set_xticks(Years)\n",
    "ax.set_xticklabels(Years_s)\n",
    "ax.legend()\n",
    "fig.tight_layout()\n",
    "plt.show()"
   ]
  },
  {
   "cell_type": "code",
   "execution_count": null,
   "metadata": {},
   "outputs": [],
   "source": []
  }
 ],
 "metadata": {
  "kernelspec": {
   "display_name": "Python 2",
   "language": "python",
   "name": "python2"
  },
  "language_info": {
   "codemirror_mode": {
    "name": "ipython",
    "version": 2
   },
   "file_extension": ".py",
   "mimetype": "text/x-python",
   "name": "python",
   "nbconvert_exporter": "python",
   "pygments_lexer": "ipython2",
   "version": "2.7.15"
  }
 },
 "nbformat": 4,
 "nbformat_minor": 2
}
