{
 "cells": [
  {
   "cell_type": "code",
   "execution_count": 1,
   "metadata": {},
   "outputs": [],
   "source": [
    "import pandas as pd\n",
    "import numpy as np"
   ]
  },
  {
   "cell_type": "code",
   "execution_count": 8,
   "metadata": {},
   "outputs": [],
   "source": [
    "df = pd.read_csv(\"q_WebWorks_QFERGeneratorMonthlyDescriptive_Table.txt\")\n",
    "df[\"Classification\"]=df[\"CECPlantID\"].astype(str).str[0]"
   ]
  },
  {
   "cell_type": "code",
   "execution_count": 21,
   "metadata": {},
   "outputs": [],
   "source": [
    "Solar = df[df[\"Classification\"]==\"S\"]\n",
    "Gas = df[df[\"Classification\"]==\"G\"] \n",
    "Hydro = df[df[\"Classification\"]==\"H\"] \n",
    "Wind = df[df[\"Classification\"]==\"W\"] \n",
    "Geothermal = df[df[\"Classification\"]==\"T\"]\n",
    "Nuclear = df[df[\"Classification\"]==\"N\"] \n",
    "Coal = df[df[\"Classification\"]==\"C\"]\n",
    "Biomass = df[df[\"Classification\"]==\"E\"]"
   ]
  },
  {
   "cell_type": "code",
   "execution_count": 27,
   "metadata": {},
   "outputs": [],
   "source": [
    "Months = np.arange(1,13)\n",
    "Solar_Efficiency=[]\n",
    "Wind_Efficiency=[]\n",
    "Geothermal_Efficiency=[]\n",
    "Hydro_Efficiency=[]\n",
    "for month in Months:\n",
    "    Solar_Efficiency.append(Solar[Solar[\"Month\"]==month][\"NetMWh\"].sum()/Solar[Solar[\"Month\"]==month][\"Capacity\"].sum())\n",
    "    Wind_Efficiency.append(Wind[Wind[\"Month\"]==month][\"NetMWh\"].sum()/Wind[Wind[\"Month\"]==month][\"Capacity\"].sum())\n",
    "    Geothermal_Efficiency.append(Geothermal[Geothermal[\"Month\"]==month][\"NetMWh\"].sum()/Geothermal[Geothermal[\"Month\"]==month][\"Capacity\"].sum())\n",
    "    Hydro_Efficiency.append(Hydro[Hydro[\"Month\"]==month][\"NetMWh\"].sum()/Hydro[Hydro[\"Month\"]==month][\"Capacity\"].sum())"
   ]
  },
  {
   "cell_type": "code",
   "execution_count": 32,
   "metadata": {},
   "outputs": [
    {
     "data": {
      "image/png": "[encoded data removed]",
      "text/plain": [
       "<Figure size 432x288 with 1 Axes>"
      ]
     },
     "metadata": {},
     "output_type": "display_data"
    }
   ],
   "source": [
    "import matplotlib.pyplot as plt\n",
    "%matplotlib inline\n",
    "fig, ax = plt.subplots()\n",
    "width = 0.3\n",
    "ax.bar(Months - 2*width/3, Solar_Efficiency, width, label='Solar')\n",
    "ax.bar(Months, Wind_Efficiency, width, label=\"Wind\")\n",
    "ax.bar(Months + 2*width/3, Hydro_Efficiency, width, label='Hydro')\n",
    "ax.set_ylabel('Efficiency')\n",
    "ax.set_xlabel('Month')\n",
    "ax.set_title('Efficiency of Electricity Sources by Month')\n",
    "ax.set_xticks(Months)\n",
    "ax.legend()\n",
    "fig.tight_layout()\n",
    "plt.show()"
   ]
  },
  {
   "cell_type": "raw",
   "metadata": {},
   "source": []
  },
  {
   "cell_type": "code",
   "execution_count": null,
   "metadata": {},
   "outputs": [],
   "source": []
  }
 ],
 "metadata": {
  "kernelspec": {
   "display_name": "Python 2",
   "language": "python",
   "name": "python2"
  },
  "language_info": {
   "codemirror_mode": {
    "name": "ipython",
    "version": 2
   },
   "file_extension": ".py",
   "mimetype": "text/x-python",
   "name": "python",
   "nbconvert_exporter": "python",
   "pygments_lexer": "ipython2",
   "version": "2.7.15"
  }
 },
 "nbformat": 4,
 "nbformat_minor": 2
}
